{
 "cells": [
  {
   "cell_type": "markdown",
   "id": "6ef99da4-7a61-4efd-bb3f-5ebe45d611c7",
   "metadata": {},
   "source": [
    "# Parallel Simulation\n",
    "\n",
    "Parallel simulation is a powerful technique to accelerate the training process by leveraging GPU capabilities. Instead of simulating only one robot or environment at a time, we can run multiple environments in parallel within the same scene.\n",
    "\n",
    "## What You Will Learn\n",
    "\n",
    "Hands-on with parallel simulation code and visualize parallel execution."
   ]
  },
  {
   "cell_type": "code",
   "execution_count": 1,
   "id": "3caab361-5625-4df3-bbac-024295980c0b",
   "metadata": {},
   "outputs": [],
   "source": [
    "# Suppress warning messages for clearer output\n",
    "import warnings\n",
    "import os\n",
    "\n",
    "os.environ[\"TI_LOG_LEVEL\"] = \"error\"\n",
    "warnings.filterwarnings(\"ignore\")"
   ]
  },
  {
   "cell_type": "markdown",
   "id": "12fe4746-bd21-4856-9e4f-641716e95df1",
   "metadata": {},
   "source": [
    "## Init and Create a Scene\n",
    "\n",
    "Just like previous labs. we create and init a scene in the beginning."
   ]
  },
  {
   "cell_type": "code",
   "execution_count": 2,
   "id": "bc4e3ed3",
   "metadata": {},
   "outputs": [
    {
     "name": "stdout",
     "output_type": "stream",
     "text": [
      "\u001b[38;5;17m[Genesis] [10:34:49] [INFO] \u001b[38;5;23m╭───────────────────────────────────────────────╮\u001b[0m\u001b[38;5;17m\u001b[0m\n",
      "\u001b[38;5;17m[Genesis] [10:34:49] [INFO] \u001b[38;5;23m│┈┉┈┉┈┉┈┉┈┉┈┉┈┉┈┉┈┉┈\u001b[0m\u001b[38;5;17m \u001b[38;5;23m\u001b[1m\u001b[3mGenesis\u001b[0m\u001b[38;5;17m \u001b[38;5;23m┈┉┈┉┈┉┈┉┈┉┈┉┈┉┈┉┈┉┈│\u001b[0m\u001b[38;5;17m\u001b[0m\n",
      "\u001b[38;5;17m[Genesis] [10:34:49] [INFO] \u001b[38;5;23m╰───────────────────────────────────────────────╯\u001b[0m\u001b[38;5;17m\u001b[0m\n",
      "\u001b[38;5;17m[Genesis] [10:34:49] [INFO] Consider setting 'performance_mode=True' in production to maximise runtime speed, if significantly increasing compilation time is not a concern.\u001b[0m\n",
      "\u001b[38;5;17m[Genesis] [10:34:49] [INFO] Running on \u001b[38;5;23m\u001b[4m[AMD Radeon Graphics]\u001b[0m\u001b[38;5;17m with backend \u001b[38;5;23m\u001b[4mgs.vulkan\u001b[0m\u001b[38;5;17m. Device memory: \u001b[38;5;23m\u001b[4m60.75\u001b[0m\u001b[38;5;17m GB.\u001b[0m\n",
      "\u001b[38;5;17m[Genesis] [10:34:49] [INFO] 🚀 Genesis initialized. 🔖 version: \u001b[38;5;23m\u001b[4m0.3.3\u001b[0m\u001b[38;5;17m, 🌱 seed: \u001b[38;5;23m\u001b[4mNone\u001b[0m\u001b[38;5;17m, 📏 precision: '\u001b[38;5;23m\u001b[4m32\u001b[0m\u001b[38;5;17m', 🐛 debug: \u001b[38;5;23m\u001b[4mFalse\u001b[0m\u001b[38;5;17m, 🎨 theme: '\u001b[38;5;23m\u001b[4mlight\u001b[0m\u001b[38;5;17m'.\u001b[0m\n",
      "\u001b[38;5;17m[Genesis] [10:34:49] [INFO] Scene \u001b[38;5;23m\u001b[3m<397158a>\u001b[0m\u001b[38;5;17m created.\u001b[0m\n"
     ]
    }
   ],
   "source": [
    "import numpy as np\n",
    "import genesis as gs\n",
    "\n",
    "########################## init ##########################\n",
    "gs.init(backend=gs.vulkan, theme='light')\n",
    "\n",
    "########################## create a scene ##########################\n",
    "scene = gs.Scene(\n",
    "    viewer_options=gs.options.ViewerOptions(\n",
    "        camera_pos=(0.0, -2, 1.5),\n",
    "        camera_lookat=(0.0, 0.0, 0.5),\n",
    "        camera_fov=40,\n",
    "        max_FPS=200,\n",
    "    ),\n",
    "    rigid_options=gs.options.RigidOptions(\n",
    "        enable_joint_limit=False,\n",
    "    ),\n",
    "    show_viewer=False\n",
    ")"
   ]
  },
  {
   "cell_type": "markdown",
   "id": "fc0555c9-db1a-4965-8444-a6a08dfbf1cb",
   "metadata": {},
   "source": [
    "## Add Entities\n",
    "\n",
    "Just like what we did in previous labs, we add a **plane**, an **arm**, and a **camera** to the scene, and then build the scene."
   ]
  },
  {
   "cell_type": "code",
   "execution_count": 3,
   "id": "67347a5e",
   "metadata": {},
   "outputs": [
    {
     "name": "stdout",
     "output_type": "stream",
     "text": [
      "\u001b[38;5;17m[Genesis] [10:35:17] [INFO] Adding \u001b[38;5;23m<gs.RigidEntity>\u001b[0m\u001b[38;5;17m. idx: \u001b[38;5;23m0\u001b[0m\u001b[38;5;17m, uid: \u001b[38;5;23m\u001b[3m<1c869ef>\u001b[0m\u001b[38;5;17m, morph: \u001b[38;5;23m<gs.morphs.Plane>\u001b[0m\u001b[38;5;17m, material: \u001b[38;5;23m<gs.materials.Rigid>\u001b[0m\u001b[38;5;17m.\u001b[0m\n",
      "\u001b[38;5;17m[Genesis] [10:35:17] [INFO] Adding \u001b[38;5;23m<gs.RigidEntity>\u001b[0m\u001b[38;5;17m. idx: \u001b[38;5;23m1\u001b[0m\u001b[38;5;17m, uid: \u001b[38;5;23m\u001b[3m<c3b0391>\u001b[0m\u001b[38;5;17m, morph: \u001b[38;5;23m<gs.morphs.MJCF(file='/opt/conda/envs/py_3.12/lib/python3.12/site-packages/genesis/assets/xml/franka_emika_panda/panda.xml')>\u001b[0m\u001b[38;5;17m, material: \u001b[38;5;23m<gs.materials.Rigid>\u001b[0m\u001b[38;5;17m.\u001b[0m\n",
      "\u001b[38;5;3m[Genesis] [10:35:18] [WARNING] (MJCF) Approximating tendon by joint actuator for `finger_joint1`\u001b[0m\n",
      "\u001b[38;5;3m[Genesis] [10:35:18] [WARNING] (MJCF) Actuator control gain and bias parameters cannot be reduced to a unique PD control position gain. Using max between gain and bias for joint `finger_joint1`.\u001b[0m\n",
      "\u001b[38;5;3m[Genesis] [10:35:18] [WARNING] (MJCF) Approximating tendon by joint actuator for `finger_joint2`\u001b[0m\n",
      "\u001b[38;5;3m[Genesis] [10:35:18] [WARNING] (MJCF) Actuator control gain and bias parameters cannot be reduced to a unique PD control position gain. Using max between gain and bias for joint `finger_joint2`.\u001b[0m\n",
      "\u001b[38;5;17m[Genesis] [10:35:18] [INFO] Applying offset to base link's pose with user provided value in morph.\u001b[0m\n"
     ]
    }
   ],
   "source": [
    "########################## entities ##########################\n",
    "plane = scene.add_entity(\n",
    "    gs.morphs.Plane(),\n",
    ")\n",
    "robot = scene.add_entity(\n",
    "    gs.morphs.MJCF(file=\"xml/franka_emika_panda/panda.xml\"),\n",
    ")\n",
    "\n",
    "cam = scene.add_camera(\n",
    "    res=(640, 480),\n",
    "    pos=(6, 4, 2),\n",
    "    lookat=(0, 0, 0.2),\n",
    "    fov=30,\n",
    ")"
   ]
  },
  {
   "cell_type": "markdown",
   "id": "ac4ee28c-b200-468f-be8a-057efc04dd25",
   "metadata": {},
   "source": [
    "## Build the Scene\n",
    "\n",
    "In Genesis, enabling scene-level parallelism is straightforward. When building your scene, you simply add the parameter `n_envs` to specify how many environments you want. To align with terminology commonly used in machine learning literature, we will also use the term `batching` to refer to parallelization."
   ]
  },
  {
   "cell_type": "code",
   "execution_count": 4,
   "id": "a9f5096b-1131-47ec-aec0-8ff95eab9855",
   "metadata": {},
   "outputs": [
    {
     "name": "stdout",
     "output_type": "stream",
     "text": [
      "\u001b[38;5;17m[Genesis] [10:35:38] [INFO] Building scene \u001b[38;5;23m\u001b[3m<397158a>\u001b[0m\u001b[38;5;17m...\u001b[0m\n",
      "\u001b[38;5;3m[Genesis] [10:35:38] [WARNING] Reference robot position exceeds joint limits.\u001b[0m\n",
      "\u001b[38;5;3m[Genesis] [10:35:38] [WARNING] Constraint solver time constant should be greater than 2*substep_dt. timeconst is changed from `0.005` to `0.02`). Decrease simulation timestep or increase timeconst to avoid altering the original value.\u001b[0m\n",
      "\u001b[38;5;17m[Genesis] [10:35:39] [INFO] Compiling simulation kernels...\u001b[0m\n",
      "\u001b[38;5;17m[Genesis] [10:35:43] [INFO] Building visualizer...\u001b[0m\n"
     ]
    },
    {
     "name": "stderr",
     "output_type": "stream",
     "text": [
      "amdgpu: os_same_file_description couldn't determine if two DRM fds reference the same file description.\n",
      "If they do, bad things may happen!\n"
     ]
    }
   ],
   "source": [
    "########################## build ##########################\n",
    "n_envs = 9\n",
    "scene.build(n_envs=n_envs, env_spacing=(1.0, 1.0))"
   ]
  },
  {
   "cell_type": "markdown",
   "id": "fda33a5a-2894-49db-aa28-dfd5f604e479",
   "metadata": {},
   "source": [
    "## Controlling Robots in Batched Environments\n",
    "\n",
    "In earlier tutorials, we used APIs such as franka.control_dofs_position() to control a single robot.\n",
    "With parallel simulation, the same API can be extended naturally: simply add a batch dimension to control multiple robots at once."
   ]
  },
  {
   "cell_type": "code",
   "execution_count": 5,
   "id": "d6c14a54",
   "metadata": {},
   "outputs": [
    {
     "name": "stderr",
     "output_type": "stream",
     "text": [
      "100%|███████████████████████████████████████████████████████████| 1000/1000 [00:46<00:00, 21.58it/s]\n"
     ]
    }
   ],
   "source": [
    "import logging\n",
    "from tqdm import tqdm\n",
    "\n",
    "# Set logger to warning to avoid log info.\n",
    "gs.logger._logger.setLevel(logging.WARNING)\n",
    "\n",
    "rgb, depth, segmentation, normal = cam.render(rgb=True, depth=True, segmentation=True, normal=True)\n",
    "cam.start_recording()\n",
    "\n",
    "target_quat = np.tile(np.array([0, 1, 0, 0]), [n_envs, 1])  # pointing downwards\n",
    "center = np.tile(np.array([0.4, -0.2, 0.25]), [n_envs, 1])\n",
    "angular_speed = np.random.uniform(-10, 10, n_envs)\n",
    "r = 0.1\n",
    "\n",
    "ee_link = robot.get_link(\"hand\")\n",
    "\n",
    "for i in tqdm(range(1000), ncols=100):\n",
    "    target_pos = np.zeros([n_envs, 3])\n",
    "    target_pos[:, 0] = center[:, 0] + np.cos(i / 360 * np.pi * angular_speed) * r\n",
    "    target_pos[:, 1] = center[:, 1] + np.sin(i / 360 * np.pi * angular_speed) * r\n",
    "    target_pos[:, 2] = center[:, 2]\n",
    "    target_q = np.hstack([target_pos, target_quat])\n",
    "\n",
    "    q = robot.inverse_kinematics(\n",
    "        link=ee_link,\n",
    "        pos=target_pos,\n",
    "        quat=target_quat,\n",
    "        rot_mask=[False, False, True],  # for demo purpose: only restrict direction of z-axis\n",
    "    )\n",
    "\n",
    "    robot.set_qpos(q)\n",
    "    scene.step()\n",
    "    cam.render()\n",
    "    \n",
    "cam.stop_recording(save_to_filename=\"Videos/video_04.mp4\", fps=60)"
   ]
  },
  {
   "cell_type": "markdown",
   "id": "5b2fb085-d8b0-4999-ab54-2243db074ed5",
   "metadata": {},
   "source": [
    "## Show the video\n",
    "\n",
    "You will see nine robotic arms moving at different speeds and angles. This is because we set `n_envs` to nine and assigned each of them a random `angular_speed`."
   ]
  },
  {
   "cell_type": "code",
   "execution_count": 6,
   "id": "a236c16e",
   "metadata": {},
   "outputs": [
    {
     "data": {
      "text/html": [
       "<video src=\"Videos/video_04.mp4\" controls  >\n",
       "      Your browser does not support the <code>video</code> element.\n",
       "    </video>"
      ],
      "text/plain": [
       "<IPython.core.display.Video object>"
      ]
     },
     "execution_count": 6,
     "metadata": {},
     "output_type": "execute_result"
    }
   ],
   "source": [
    "from IPython.display import Video\n",
    "Video(url=\"Videos/video_04.mp4\")"
   ]
  },
  {
   "cell_type": "markdown",
   "id": "dc8da334-4c15-48d3-a2f5-4dbe7b229d9b",
   "metadata": {},
   "source": [
    "# Congratulations! \n",
    "\n",
    "After completing these four labs, you now have a basic understanding of how to create and control a virtual robotic arm in Genesis. You’ve also learned how to plan a pick-and-place path for a block and how to perform parallel simulations within a scene.\n",
    "\n",
    "If you’re interested in running Genesis on AMD machines, here are some useful references:\n",
    "\n",
    "* **Genesis GitHub:** [https://github.com/Genesis-Embodied-AI/Genesis](https://github.com/Genesis-Embodied-AI/Genesis)\n",
    "* **Train a Unitree Dog on Genesis:** [https://github.com/JingXunLin/Genesis_Go2](https://github.com/JingXunLin/Genesis_Go2)\n",
    "\n",
    "See you in the next wrokshop!\n"
   ]
  }
 ],
 "metadata": {
  "kernelspec": {
   "display_name": "Python 3 (ipykernel)",
   "language": "python",
   "name": "python3"
  },
  "language_info": {
   "codemirror_mode": {
    "name": "ipython",
    "version": 3
   },
   "file_extension": ".py",
   "mimetype": "text/x-python",
   "name": "python",
   "nbconvert_exporter": "python",
   "pygments_lexer": "ipython3",
   "version": "3.12.11"
  }
 },
 "nbformat": 4,
 "nbformat_minor": 5
}
