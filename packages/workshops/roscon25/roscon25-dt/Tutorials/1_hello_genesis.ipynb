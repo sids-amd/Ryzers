{
 "cells": [
  {
   "cell_type": "markdown",
   "id": "c9583f2f-64b5-4e5e-9a2c-bd82573d6196",
   "metadata": {},
   "source": [
    "# Load a Robot into the Genesis Scene\n",
    "\n",
    "In this tutorial, we introduce how to set up a basic Genesis environment, create a simple scene, and load a robot. We will go step by step through initialization, scene construction, simulator options, and visualizer settings.\n",
    "\n",
    "\n",
    "## What You Will Learn\n",
    "\n",
    "1. How to Initialize Genesis\n",
    "\n",
    "* Understand the basic startup procedure using `gs.init()`.\n",
    "* Select `vulkan` backend recommended for AMD GPUs.\n",
    "\n",
    "2. How to Build a Scene\n",
    "\n",
    "* Every simulation in Genesis occurs within a `Scene`, which integrates a **Simulator** (physics engine) and a **Visualizer** (rendering engine).\n",
    "* Show the difference between GUI (`show_viewer=True`) and headless (`False`) modes.\n",
    "\n",
    "3. How to Configure the Visualizer\n",
    "\n",
    "* Learn to control virtual camera behavior using `ViewerOptions` (position, look-at point, and field of view).\n",
    "* Adjust viewer resolution, frame rate, and threading for optimized rendering performance.\n",
    "\n",
    "4. How to Add Entities and Robots\n",
    "\n",
    "* Understand that all physical elements are represented as `Entity` objects, managed via `scene.add_entity()`.\n",
    "* See a full example importing a **Franka Emika Panda** robotic arm and a plane into the scene, preparing for motion control."
   ]
  },
  {
   "cell_type": "code",
   "execution_count": 1,
   "id": "102fe2cb-39b4-47dc-83a2-c7f9e75be984",
   "metadata": {},
   "outputs": [],
   "source": [
    "# Suppress warning messages for clearer output\n",
    "import warnings\n",
    "import os\n",
    "\n",
    "os.environ[\"TI_LOG_LEVEL\"] = \"error\"\n",
    "warnings.filterwarnings(\"ignore\")"
   ]
  },
  {
   "cell_type": "markdown",
   "id": "bdde9503-dc15-48dc-989f-fe859118c459",
   "metadata": {},
   "source": [
    "## Backend Initialization\n",
    "\n",
    "Genesis supports multiple backends for parallel simulation. For AMD hardware, the recommended backend is Vulkan, a low-level API for high performance GPU programming.\n",
    "\n",
    "In addition to choosing the backend, you can configure various parameters during initialization:\n",
    "\n",
    "Example:\n",
    "\n",
    "```python\n",
    "gs.init(\n",
    "    precision           = '32',\n",
    "    logging_level       = None,\n",
    "    backend             = gs.vulkan,\n",
    "    theme               = 'dark',\n",
    ")\n",
    "```\n",
    "\n",
    "Here, we use the default init settings and set backend to vulkan."
   ]
  },
  {
   "cell_type": "code",
   "execution_count": 2,
   "id": "b3a7428b-2c74-4199-a975-7dbf6312f6ce",
   "metadata": {},
   "outputs": [
    {
     "name": "stdout",
     "output_type": "stream",
     "text": [
      "\u001b[38;5;17m[Genesis] [09:55:47] [INFO] \u001b[38;5;23m╭───────────────────────────────────────────────╮\u001b[0m\u001b[38;5;17m\u001b[0m\n",
      "\u001b[38;5;17m[Genesis] [09:55:47] [INFO] \u001b[38;5;23m│┈┉┈┉┈┉┈┉┈┉┈┉┈┉┈┉┈┉┈\u001b[0m\u001b[38;5;17m \u001b[38;5;23m\u001b[1m\u001b[3mGenesis\u001b[0m\u001b[38;5;17m \u001b[38;5;23m┈┉┈┉┈┉┈┉┈┉┈┉┈┉┈┉┈┉┈│\u001b[0m\u001b[38;5;17m\u001b[0m\n",
      "\u001b[38;5;17m[Genesis] [09:55:47] [INFO] \u001b[38;5;23m╰───────────────────────────────────────────────╯\u001b[0m\u001b[38;5;17m\u001b[0m\n",
      "\u001b[38;5;17m[Genesis] [09:55:47] [INFO] Consider setting 'performance_mode=True' in production to maximise runtime speed, if significantly increasing compilation time is not a concern.\u001b[0m\n",
      "\u001b[38;5;17m[Genesis] [09:55:47] [INFO] Running on \u001b[38;5;23m\u001b[4m[AMD Radeon Graphics]\u001b[0m\u001b[38;5;17m with backend \u001b[38;5;23m\u001b[4mgs.vulkan\u001b[0m\u001b[38;5;17m. Device memory: \u001b[38;5;23m\u001b[4m60.75\u001b[0m\u001b[38;5;17m GB.\u001b[0m\n",
      "\u001b[38;5;17m[Genesis] [09:55:47] [INFO] 🚀 Genesis initialized. 🔖 version: \u001b[38;5;23m\u001b[4m0.3.3\u001b[0m\u001b[38;5;17m, 🌱 seed: \u001b[38;5;23m\u001b[4mNone\u001b[0m\u001b[38;5;17m, 📏 precision: '\u001b[38;5;23m\u001b[4m32\u001b[0m\u001b[38;5;17m', 🐛 debug: \u001b[38;5;23m\u001b[4mFalse\u001b[0m\u001b[38;5;17m, 🎨 theme: '\u001b[38;5;23m\u001b[4mlight\u001b[0m\u001b[38;5;17m'.\u001b[0m\n"
     ]
    }
   ],
   "source": [
    "import genesis as gs\n",
    "import numpy as np\n",
    "\n",
    "gs.init(backend=gs.vulkan, theme='light')"
   ]
  },
  {
   "cell_type": "markdown",
   "id": "5aa289ea-6a36-4847-b992-d4904b74f76e",
   "metadata": {},
   "source": [
    "## Create a Scene\n",
    "\n",
    "In Genesis, all entities—such as robots, objects, cameras, and sensors—exist within a **Scene**. A Scene serves as the core container of the simulation, encapsulating two main components:\n",
    "\n",
    "* **Simulator**: Defines the physical world and handles all physics computations.\n",
    "* **Visualizer**: Renders the scene and manages the graphical display.\n",
    "\n",
    "A scene can be created either **with** or **without** a viewer:\n",
    "\n",
    "* `show_viewer=True`: Launches a GUI viewer, useful for debugging or interactive visualization.\n",
    "* `show_viewer=False`: Runs in headless mode, ideal for large-scale training or server-side execution.\n",
    "\n",
    "In this lab, we set `show_viewer` to `False` and use the default `SimOptions` and `ViewerOptions` settings.\n",
    "Later, instead of rendering the scene directly in this notebook, we will save the rendering output as a video for visualization.\n",
    "\n",
    "Note that you can only create the scene ONCE. Recreating it will cause an ERROR. \n"
   ]
  },
  {
   "cell_type": "code",
   "execution_count": 3,
   "id": "08be920a-fcc8-424c-a200-cb9ec4119d48",
   "metadata": {},
   "outputs": [
    {
     "name": "stdout",
     "output_type": "stream",
     "text": [
      "\u001b[38;5;17m[Genesis] [09:55:52] [INFO] Scene \u001b[38;5;23m\u001b[3m<17b8005>\u001b[0m\u001b[38;5;17m created.\u001b[0m\n"
     ]
    }
   ],
   "source": [
    "scene = gs.Scene(show_viewer=False)"
   ]
  },
  {
   "cell_type": "markdown",
   "id": "57a4876e-e592-413e-af26-eb5e240fee1b",
   "metadata": {},
   "source": [
    "## Load a Robot\n",
    "\n",
    "Once a scene has been created in Genesis, the next step is to populate it with robots, objects, or other physical entities. Genesis follows a fully **object-oriented design**, where every element in the simulation world is represented as an [**`Entity`**](https://genesis-world.readthedocs.io/en/latest/api_reference/entity/index.html).\n",
    "\n",
    "An `Entity` is the abstraction for everything in the scene that requires physics simulation. This includes rigid or deformable bodies, terrains, fluids, and, of course, robots. Entities are introduced into a scene via the function `scene.add_entity`.\n",
    "\n",
    "The first argument to `add_entity` is a **morph**, which encapsulates both the **geometry** and **pose** of an entity.\n",
    "\n",
    "Different morph types allow you to load entities from:\n",
    "\n",
    "* **Shape primitives** (e.g., planes, spheres, cubes)\n",
    "* **Meshes**\n",
    "* **URDF** files (Universal Robotics Description Format)\n",
    "* **MJCF** files (MuJoCo's Robotics Format)\n",
    "* **Terrains**\n",
    "* **Soft robot descriptions**\n",
    "\n",
    "This flexibility means that most commonly used robotics models—such as those described in URDF or MJCF—can be seamlessly integrated into Genesis."
   ]
  },
  {
   "cell_type": "code",
   "execution_count": 4,
   "id": "79547b30",
   "metadata": {},
   "outputs": [
    {
     "name": "stdout",
     "output_type": "stream",
     "text": [
      "\u001b[38;5;17m[Genesis] [09:55:54] [INFO] Adding \u001b[38;5;23m<gs.RigidEntity>\u001b[0m\u001b[38;5;17m. idx: \u001b[38;5;23m0\u001b[0m\u001b[38;5;17m, uid: \u001b[38;5;23m\u001b[3m<cfe02cd>\u001b[0m\u001b[38;5;17m, morph: \u001b[38;5;23m<gs.morphs.Plane>\u001b[0m\u001b[38;5;17m, material: \u001b[38;5;23m<gs.materials.Rigid>\u001b[0m\u001b[38;5;17m.\u001b[0m\n",
      "\u001b[38;5;17m[Genesis] [09:55:55] [INFO] Adding \u001b[38;5;23m<gs.RigidEntity>\u001b[0m\u001b[38;5;17m. idx: \u001b[38;5;23m1\u001b[0m\u001b[38;5;17m, uid: \u001b[38;5;23m\u001b[3m<7a1c91d>\u001b[0m\u001b[38;5;17m, morph: \u001b[38;5;23m<gs.morphs.MJCF(file='/opt/conda/envs/py_3.12/lib/python3.12/site-packages/genesis/assets/xml/franka_emika_panda/panda.xml')>\u001b[0m\u001b[38;5;17m, material: \u001b[38;5;23m<gs.materials.Rigid>\u001b[0m\u001b[38;5;17m.\u001b[0m\n",
      "\u001b[38;5;3m[Genesis] [09:55:55] [WARNING] (MJCF) Approximating tendon by joint actuator for `finger_joint1`\u001b[0m\n",
      "\u001b[38;5;3m[Genesis] [09:55:55] [WARNING] (MJCF) Actuator control gain and bias parameters cannot be reduced to a unique PD control position gain. Using max between gain and bias for joint `finger_joint1`.\u001b[0m\n",
      "\u001b[38;5;3m[Genesis] [09:55:55] [WARNING] (MJCF) Approximating tendon by joint actuator for `finger_joint2`\u001b[0m\n",
      "\u001b[38;5;3m[Genesis] [09:55:55] [WARNING] (MJCF) Actuator control gain and bias parameters cannot be reduced to a unique PD control position gain. Using max between gain and bias for joint `finger_joint2`.\u001b[0m\n",
      "\u001b[38;5;17m[Genesis] [09:55:55] [INFO] Applying offset to base link's pose with user provided value in morph.\u001b[0m\n"
     ]
    }
   ],
   "source": [
    "# Load Entity\n",
    "\n",
    "plane = scene.add_entity(\n",
    "    gs.morphs.Plane(),\n",
    ")\n",
    "franka = scene.add_entity(\n",
    "    gs.morphs.MJCF(file=\"xml/franka_emika_panda/panda.xml\"),\n",
    ")"
   ]
  },
  {
   "cell_type": "markdown",
   "id": "43fd365b-f502-4364-bd24-85cb60c9ae9c",
   "metadata": {},
   "source": [
    "## Add a Camera\n",
    "\n",
    "Next, we add a camera to record what happens in the scene."
   ]
  },
  {
   "cell_type": "code",
   "execution_count": 5,
   "id": "184eeb6d-184d-428a-950b-a2be6ff9f3e9",
   "metadata": {},
   "outputs": [
    {
     "name": "stdout",
     "output_type": "stream",
     "text": [
      "Successfully loaded a camera.\n"
     ]
    }
   ],
   "source": [
    "cam = scene.add_camera(\n",
    "    res=(640, 480),\n",
    "    pos=(3.5, 0.0, 2.5),\n",
    "    lookat=(0, 0, 0.5),\n",
    "    fov=30,\n",
    "    GUI=True,\n",
    ")\n",
    "\n",
    "print(\"Successfully loaded a camera.\")"
   ]
  },
  {
   "cell_type": "markdown",
   "id": "8601f73c-aed2-4b8d-a151-fc51262fe2eb",
   "metadata": {},
   "source": [
    "## Build the Scene\n",
    "\n",
    "After creating a scene, it must be built explicitly by calling `scene.build()`. This step is required because Genesis uses just-in-time (JIT) compilation to generate GPU kernels on the fly. Building the scene initializes this process, allocates device memory, and sets up the underlying data structures required for simulation."
   ]
  },
  {
   "cell_type": "code",
   "execution_count": 6,
   "id": "86735786-f847-4221-9a20-51edecaae014",
   "metadata": {},
   "outputs": [
    {
     "name": "stdout",
     "output_type": "stream",
     "text": [
      "\u001b[38;5;17m[Genesis] [09:56:05] [INFO] Building scene \u001b[38;5;23m\u001b[3m<17b8005>\u001b[0m\u001b[38;5;17m...\u001b[0m\n",
      "\u001b[38;5;3m[Genesis] [09:56:06] [WARNING] Reference robot position exceeds joint limits.\u001b[0m\n",
      "\u001b[38;5;3m[Genesis] [09:56:06] [WARNING] Constraint solver time constant should be greater than 2*substep_dt. timeconst is changed from `0.005` to `0.02`). Decrease simulation timestep or increase timeconst to avoid altering the original value.\u001b[0m\n",
      "\u001b[38;5;17m[Genesis] [09:56:07] [INFO] Compiling simulation kernels...\u001b[0m\n",
      "\u001b[38;5;17m[Genesis] [09:56:10] [INFO] Building visualizer...\u001b[0m\n",
      "Successfully built the scene.\n"
     ]
    },
    {
     "name": "stderr",
     "output_type": "stream",
     "text": [
      "amdgpu: os_same_file_description couldn't determine if two DRM fds reference the same file description.\n",
      "If they do, bad things may happen!\n"
     ]
    }
   ],
   "source": [
    "scene.build()\n",
    "\n",
    "print(\"Successfully built the scene.\")"
   ]
  },
  {
   "cell_type": "markdown",
   "id": "a392fbb8-df0d-4ef3-b9e1-123f4b1307a5",
   "metadata": {},
   "source": [
    "## Start simulating\n",
    "\n",
    "Then we start simulating and save it as a video. \n",
    "You can download the result in `Video` folder."
   ]
  },
  {
   "cell_type": "code",
   "execution_count": 7,
   "id": "76791170",
   "metadata": {},
   "outputs": [
    {
     "name": "stdout",
     "output_type": "stream",
     "text": [
      "\u001b[38;5;17m[Genesis] [09:56:11] [INFO] Running at \u001b[38;5;23m38.68\u001b[0m\u001b[38;5;17m FPS.\u001b[0m\n",
      "\u001b[38;5;17m[Genesis] [09:56:11] [INFO] Running at \u001b[38;5;23m38.71\u001b[0m\u001b[38;5;17m FPS.\u001b[0m\n",
      "\u001b[38;5;17m[Genesis] [09:56:11] [INFO] Running at \u001b[38;5;23m38.57\u001b[0m\u001b[38;5;17m FPS.\u001b[0m\n",
      "\u001b[38;5;17m[Genesis] [09:56:11] [INFO] Running at \u001b[38;5;23m38.50\u001b[0m\u001b[38;5;17m FPS.\u001b[0m\n",
      "\u001b[38;5;17m[Genesis] [09:56:11] [INFO] Running at \u001b[38;5;23m38.60\u001b[0m\u001b[38;5;17m FPS.\u001b[0m\n",
      "\u001b[38;5;17m[Genesis] [09:56:11] [INFO] Running at \u001b[38;5;23m38.71\u001b[0m\u001b[38;5;17m FPS.\u001b[0m\n",
      "\u001b[38;5;17m[Genesis] [09:56:11] [INFO] Running at \u001b[38;5;23m38.75\u001b[0m\u001b[38;5;17m FPS.\u001b[0m\n",
      "\u001b[38;5;17m[Genesis] [09:56:11] [INFO] Running at \u001b[38;5;23m38.83\u001b[0m\u001b[38;5;17m FPS.\u001b[0m\n",
      "\u001b[38;5;17m[Genesis] [09:56:11] [INFO] Running at \u001b[38;5;23m38.89\u001b[0m\u001b[38;5;17m FPS.\u001b[0m\n",
      "\u001b[38;5;17m[Genesis] [09:56:11] [INFO] Running at \u001b[38;5;23m38.95\u001b[0m\u001b[38;5;17m FPS.\u001b[0m\n",
      "\u001b[38;5;17m[Genesis] [09:56:11] [INFO] Running at \u001b[38;5;23m38.98\u001b[0m\u001b[38;5;17m FPS.\u001b[0m\n",
      "\u001b[38;5;17m[Genesis] [09:56:11] [INFO] Running at \u001b[38;5;23m39.10\u001b[0m\u001b[38;5;17m FPS.\u001b[0m\n",
      "\u001b[38;5;17m[Genesis] [09:56:11] [INFO] Running at \u001b[38;5;23m39.17\u001b[0m\u001b[38;5;17m FPS.\u001b[0m\n",
      "\u001b[38;5;17m[Genesis] [09:56:12] [INFO] Running at \u001b[38;5;23m39.05\u001b[0m\u001b[38;5;17m FPS.\u001b[0m\n",
      "\u001b[38;5;17m[Genesis] [09:56:12] [INFO] Running at \u001b[38;5;23m39.12\u001b[0m\u001b[38;5;17m FPS.\u001b[0m\n",
      "\u001b[38;5;17m[Genesis] [09:56:12] [INFO] Running at \u001b[38;5;23m39.20\u001b[0m\u001b[38;5;17m FPS.\u001b[0m\n",
      "\u001b[38;5;17m[Genesis] [09:56:12] [INFO] Running at \u001b[38;5;23m39.22\u001b[0m\u001b[38;5;17m FPS.\u001b[0m\n",
      "\u001b[38;5;17m[Genesis] [09:56:12] [INFO] Running at \u001b[38;5;23m39.13\u001b[0m\u001b[38;5;17m FPS.\u001b[0m\n",
      "\u001b[38;5;17m[Genesis] [09:56:12] [INFO] Running at \u001b[38;5;23m39.24\u001b[0m\u001b[38;5;17m FPS.\u001b[0m\n",
      "\u001b[38;5;17m[Genesis] [09:56:12] [INFO] Running at \u001b[38;5;23m39.38\u001b[0m\u001b[38;5;17m FPS.\u001b[0m\n",
      "\u001b[38;5;17m[Genesis] [09:56:12] [INFO] Running at \u001b[38;5;23m39.50\u001b[0m\u001b[38;5;17m FPS.\u001b[0m\n",
      "\u001b[38;5;17m[Genesis] [09:56:12] [INFO] Running at \u001b[38;5;23m39.71\u001b[0m\u001b[38;5;17m FPS.\u001b[0m\n",
      "\u001b[38;5;17m[Genesis] [09:56:12] [INFO] Running at \u001b[38;5;23m39.83\u001b[0m\u001b[38;5;17m FPS.\u001b[0m\n",
      "\u001b[38;5;17m[Genesis] [09:56:12] [INFO] Running at \u001b[38;5;23m39.94\u001b[0m\u001b[38;5;17m FPS.\u001b[0m\n",
      "\u001b[38;5;17m[Genesis] [09:56:12] [INFO] Running at \u001b[38;5;23m40.00\u001b[0m\u001b[38;5;17m FPS.\u001b[0m\n",
      "\u001b[38;5;17m[Genesis] [09:56:12] [INFO] Running at \u001b[38;5;23m40.09\u001b[0m\u001b[38;5;17m FPS.\u001b[0m\n",
      "\u001b[38;5;17m[Genesis] [09:56:12] [INFO] Running at \u001b[38;5;23m40.23\u001b[0m\u001b[38;5;17m FPS.\u001b[0m\n",
      "\u001b[38;5;17m[Genesis] [09:56:12] [INFO] Running at \u001b[38;5;23m40.30\u001b[0m\u001b[38;5;17m FPS.\u001b[0m\n",
      "\u001b[38;5;17m[Genesis] [09:56:12] [INFO] Running at \u001b[38;5;23m40.39\u001b[0m\u001b[38;5;17m FPS.\u001b[0m\n",
      "\u001b[38;5;17m[Genesis] [09:56:12] [INFO] Running at \u001b[38;5;23m40.43\u001b[0m\u001b[38;5;17m FPS.\u001b[0m\n",
      "\u001b[38;5;17m[Genesis] [09:56:12] [INFO] Running at \u001b[38;5;23m40.46\u001b[0m\u001b[38;5;17m FPS.\u001b[0m\n",
      "\u001b[38;5;17m[Genesis] [09:56:12] [INFO] Running at \u001b[38;5;23m40.48\u001b[0m\u001b[38;5;17m FPS.\u001b[0m\n",
      "\u001b[38;5;17m[Genesis] [09:56:12] [INFO] Running at \u001b[38;5;23m40.54\u001b[0m\u001b[38;5;17m FPS.\u001b[0m\n",
      "\u001b[38;5;17m[Genesis] [09:56:12] [INFO] Running at \u001b[38;5;23m40.61\u001b[0m\u001b[38;5;17m FPS.\u001b[0m\n",
      "\u001b[38;5;17m[Genesis] [09:56:12] [INFO] Running at \u001b[38;5;23m40.74\u001b[0m\u001b[38;5;17m FPS.\u001b[0m\n",
      "\u001b[38;5;17m[Genesis] [09:56:12] [INFO] Running at \u001b[38;5;23m40.83\u001b[0m\u001b[38;5;17m FPS.\u001b[0m\n",
      "\u001b[38;5;17m[Genesis] [09:56:12] [INFO] Running at \u001b[38;5;23m40.91\u001b[0m\u001b[38;5;17m FPS.\u001b[0m\n",
      "\u001b[38;5;17m[Genesis] [09:56:12] [INFO] Running at \u001b[38;5;23m40.91\u001b[0m\u001b[38;5;17m FPS.\u001b[0m\n",
      "\u001b[38;5;17m[Genesis] [09:56:12] [INFO] Running at \u001b[38;5;23m40.91\u001b[0m\u001b[38;5;17m FPS.\u001b[0m\n",
      "\u001b[38;5;17m[Genesis] [09:56:12] [INFO] Running at \u001b[38;5;23m40.94\u001b[0m\u001b[38;5;17m FPS.\u001b[0m\n",
      "\u001b[38;5;17m[Genesis] [09:56:12] [INFO] Running at \u001b[38;5;23m40.94\u001b[0m\u001b[38;5;17m FPS.\u001b[0m\n",
      "\u001b[38;5;17m[Genesis] [09:56:12] [INFO] Running at \u001b[38;5;23m40.98\u001b[0m\u001b[38;5;17m FPS.\u001b[0m\n",
      "\u001b[38;5;17m[Genesis] [09:56:12] [INFO] Running at \u001b[38;5;23m41.06\u001b[0m\u001b[38;5;17m FPS.\u001b[0m\n",
      "\u001b[38;5;17m[Genesis] [09:56:12] [INFO] Running at \u001b[38;5;23m41.08\u001b[0m\u001b[38;5;17m FPS.\u001b[0m\n",
      "\u001b[38;5;17m[Genesis] [09:56:12] [INFO] Running at \u001b[38;5;23m41.02\u001b[0m\u001b[38;5;17m FPS.\u001b[0m\n",
      "\u001b[38;5;17m[Genesis] [09:56:12] [INFO] Running at \u001b[38;5;23m40.98\u001b[0m\u001b[38;5;17m FPS.\u001b[0m\n",
      "\u001b[38;5;17m[Genesis] [09:56:12] [INFO] Running at \u001b[38;5;23m41.04\u001b[0m\u001b[38;5;17m FPS.\u001b[0m\n",
      "\u001b[38;5;17m[Genesis] [09:56:12] [INFO] Running at \u001b[38;5;23m41.01\u001b[0m\u001b[38;5;17m FPS.\u001b[0m\n",
      "\u001b[38;5;17m[Genesis] [09:56:12] [INFO] Running at \u001b[38;5;23m40.79\u001b[0m\u001b[38;5;17m FPS.\u001b[0m\n",
      "\u001b[38;5;17m[Genesis] [09:56:12] [INFO] Running at \u001b[38;5;23m40.83\u001b[0m\u001b[38;5;17m FPS.\u001b[0m\n",
      "\u001b[38;5;17m[Genesis] [09:56:12] [INFO] Running at \u001b[38;5;23m40.86\u001b[0m\u001b[38;5;17m FPS.\u001b[0m\n",
      "\u001b[38;5;17m[Genesis] [09:56:12] [INFO] Running at \u001b[38;5;23m40.85\u001b[0m\u001b[38;5;17m FPS.\u001b[0m\n",
      "\u001b[38;5;17m[Genesis] [09:56:12] [INFO] Running at \u001b[38;5;23m40.79\u001b[0m\u001b[38;5;17m FPS.\u001b[0m\n",
      "\u001b[38;5;17m[Genesis] [09:56:12] [INFO] Running at \u001b[38;5;23m40.83\u001b[0m\u001b[38;5;17m FPS.\u001b[0m\n",
      "\u001b[38;5;17m[Genesis] [09:56:13] [INFO] Running at \u001b[38;5;23m40.56\u001b[0m\u001b[38;5;17m FPS.\u001b[0m\n",
      "\u001b[38;5;17m[Genesis] [09:56:13] [INFO] Running at \u001b[38;5;23m40.40\u001b[0m\u001b[38;5;17m FPS.\u001b[0m\n",
      "\u001b[38;5;17m[Genesis] [09:56:13] [INFO] Running at \u001b[38;5;23m40.36\u001b[0m\u001b[38;5;17m FPS.\u001b[0m\n",
      "\u001b[38;5;17m[Genesis] [09:56:13] [INFO] Running at \u001b[38;5;23m40.41\u001b[0m\u001b[38;5;17m FPS.\u001b[0m\n",
      "\u001b[38;5;17m[Genesis] [09:56:13] [INFO] Running at \u001b[38;5;23m40.36\u001b[0m\u001b[38;5;17m FPS.\u001b[0m\n",
      "\u001b[38;5;17m[Genesis] [09:56:13] [INFO] Running at \u001b[38;5;23m40.43\u001b[0m\u001b[38;5;17m FPS.\u001b[0m\n",
      "\u001b[38;5;17m[Genesis] [09:56:13] [INFO] Running at \u001b[38;5;23m40.46\u001b[0m\u001b[38;5;17m FPS.\u001b[0m\n",
      "\u001b[38;5;17m[Genesis] [09:56:13] [INFO] Running at \u001b[38;5;23m40.49\u001b[0m\u001b[38;5;17m FPS.\u001b[0m\n",
      "\u001b[38;5;17m[Genesis] [09:56:13] [INFO] Running at \u001b[38;5;23m40.50\u001b[0m\u001b[38;5;17m FPS.\u001b[0m\n",
      "\u001b[38;5;17m[Genesis] [09:56:13] [INFO] Running at \u001b[38;5;23m40.45\u001b[0m\u001b[38;5;17m FPS.\u001b[0m\n",
      "\u001b[38;5;17m[Genesis] [09:56:13] [INFO] Running at \u001b[38;5;23m40.47\u001b[0m\u001b[38;5;17m FPS.\u001b[0m\n",
      "\u001b[38;5;17m[Genesis] [09:56:13] [INFO] Running at \u001b[38;5;23m40.48\u001b[0m\u001b[38;5;17m FPS.\u001b[0m\n",
      "\u001b[38;5;17m[Genesis] [09:56:13] [INFO] Running at \u001b[38;5;23m40.52\u001b[0m\u001b[38;5;17m FPS.\u001b[0m\n",
      "\u001b[38;5;17m[Genesis] [09:56:13] [INFO] Running at \u001b[38;5;23m40.51\u001b[0m\u001b[38;5;17m FPS.\u001b[0m\n",
      "\u001b[38;5;17m[Genesis] [09:56:13] [INFO] Running at \u001b[38;5;23m40.48\u001b[0m\u001b[38;5;17m FPS.\u001b[0m\n",
      "\u001b[38;5;17m[Genesis] [09:56:13] [INFO] Running at \u001b[38;5;23m40.47\u001b[0m\u001b[38;5;17m FPS.\u001b[0m\n",
      "\u001b[38;5;17m[Genesis] [09:56:13] [INFO] Running at \u001b[38;5;23m40.51\u001b[0m\u001b[38;5;17m FPS.\u001b[0m\n",
      "\u001b[38;5;17m[Genesis] [09:56:13] [INFO] Running at \u001b[38;5;23m40.49\u001b[0m\u001b[38;5;17m FPS.\u001b[0m\n",
      "\u001b[38;5;17m[Genesis] [09:56:13] [INFO] Running at \u001b[38;5;23m40.55\u001b[0m\u001b[38;5;17m FPS.\u001b[0m\n",
      "\u001b[38;5;17m[Genesis] [09:56:13] [INFO] Running at \u001b[38;5;23m40.59\u001b[0m\u001b[38;5;17m FPS.\u001b[0m\n",
      "\u001b[38;5;17m[Genesis] [09:56:13] [INFO] Running at \u001b[38;5;23m40.63\u001b[0m\u001b[38;5;17m FPS.\u001b[0m\n",
      "\u001b[38;5;17m[Genesis] [09:56:13] [INFO] Running at \u001b[38;5;23m40.54\u001b[0m\u001b[38;5;17m FPS.\u001b[0m\n",
      "\u001b[38;5;17m[Genesis] [09:56:13] [INFO] Running at \u001b[38;5;23m40.57\u001b[0m\u001b[38;5;17m FPS.\u001b[0m\n",
      "\u001b[38;5;17m[Genesis] [09:56:13] [INFO] Running at \u001b[38;5;23m40.66\u001b[0m\u001b[38;5;17m FPS.\u001b[0m\n",
      "\u001b[38;5;17m[Genesis] [09:56:13] [INFO] Running at \u001b[38;5;23m40.70\u001b[0m\u001b[38;5;17m FPS.\u001b[0m\n",
      "\u001b[38;5;17m[Genesis] [09:56:13] [INFO] Running at \u001b[38;5;23m40.72\u001b[0m\u001b[38;5;17m FPS.\u001b[0m\n",
      "\u001b[38;5;17m[Genesis] [09:56:13] [INFO] Running at \u001b[38;5;23m40.81\u001b[0m\u001b[38;5;17m FPS.\u001b[0m\n",
      "\u001b[38;5;17m[Genesis] [09:56:13] [INFO] Running at \u001b[38;5;23m40.90\u001b[0m\u001b[38;5;17m FPS.\u001b[0m\n",
      "\u001b[38;5;17m[Genesis] [09:56:13] [INFO] Running at \u001b[38;5;23m41.00\u001b[0m\u001b[38;5;17m FPS.\u001b[0m\n",
      "\u001b[38;5;17m[Genesis] [09:56:13] [INFO] Running at \u001b[38;5;23m41.07\u001b[0m\u001b[38;5;17m FPS.\u001b[0m\n",
      "\u001b[38;5;17m[Genesis] [09:56:13] [INFO] Running at \u001b[38;5;23m41.15\u001b[0m\u001b[38;5;17m FPS.\u001b[0m\n",
      "\u001b[38;5;17m[Genesis] [09:56:13] [INFO] Running at \u001b[38;5;23m41.20\u001b[0m\u001b[38;5;17m FPS.\u001b[0m\n",
      "\u001b[38;5;17m[Genesis] [09:56:13] [INFO] Running at \u001b[38;5;23m41.24\u001b[0m\u001b[38;5;17m FPS.\u001b[0m\n",
      "\u001b[38;5;17m[Genesis] [09:56:13] [INFO] Running at \u001b[38;5;23m41.34\u001b[0m\u001b[38;5;17m FPS.\u001b[0m\n",
      "\u001b[38;5;17m[Genesis] [09:56:13] [INFO] Running at \u001b[38;5;23m41.42\u001b[0m\u001b[38;5;17m FPS.\u001b[0m\n",
      "\u001b[38;5;17m[Genesis] [09:56:13] [INFO] Running at \u001b[38;5;23m41.49\u001b[0m\u001b[38;5;17m FPS.\u001b[0m\n",
      "\u001b[38;5;17m[Genesis] [09:56:13] [INFO] Running at \u001b[38;5;23m41.52\u001b[0m\u001b[38;5;17m FPS.\u001b[0m\n",
      "\u001b[38;5;17m[Genesis] [09:56:13] [INFO] Running at \u001b[38;5;23m41.55\u001b[0m\u001b[38;5;17m FPS.\u001b[0m\n",
      "\u001b[38;5;17m[Genesis] [09:56:13] [INFO] Running at \u001b[38;5;23m41.57\u001b[0m\u001b[38;5;17m FPS.\u001b[0m\n",
      "\u001b[38;5;17m[Genesis] [09:56:13] [INFO] Running at \u001b[38;5;23m41.66\u001b[0m\u001b[38;5;17m FPS.\u001b[0m\n",
      "\u001b[38;5;17m[Genesis] [09:56:13] [INFO] Running at \u001b[38;5;23m41.77\u001b[0m\u001b[38;5;17m FPS.\u001b[0m\n",
      "\u001b[38;5;17m[Genesis] [09:56:14] [INFO] Running at \u001b[38;5;23m41.84\u001b[0m\u001b[38;5;17m FPS.\u001b[0m\n",
      "\u001b[38;5;17m[Genesis] [09:56:14] [INFO] Running at \u001b[38;5;23m41.88\u001b[0m\u001b[38;5;17m FPS.\u001b[0m\n",
      "\u001b[38;5;17m[Genesis] [09:56:14] [INFO] Running at \u001b[38;5;23m41.87\u001b[0m\u001b[38;5;17m FPS.\u001b[0m\n",
      "\u001b[38;5;17m[Genesis] [09:56:14] [INFO] Running at \u001b[38;5;23m41.79\u001b[0m\u001b[38;5;17m FPS.\u001b[0m\n",
      "\u001b[38;5;17m[Genesis] [09:56:14] [INFO] Saving video to \u001b[38;5;23m\"Videos/video_01.mp4\"\u001b[0m\u001b[38;5;17m...\u001b[0m\n",
      "\u001b[38;5;17m[Genesis] [09:56:14] [INFO] Video saved.\u001b[0m\n"
     ]
    }
   ],
   "source": [
    "# render rgb, depth, segmentation, normal\n",
    "rgb, depth, segmentation, normal = cam.render(rgb=True, depth=True, segmentation=True, normal=True)\n",
    "cam.start_recording()\n",
    "\n",
    "for _ in range(100):\n",
    "    scene.step()\n",
    "    cam.render()\n",
    "    \n",
    "cam.stop_recording(save_to_filename=\"Videos/video_01.mp4\", fps=60)"
   ]
  },
  {
   "cell_type": "markdown",
   "id": "364bfa53-0131-43c4-b224-bdbc1d3a6b5f",
   "metadata": {},
   "source": [
    "## Show the video\n",
    "\n",
    "If everything works correctly, you will see a robotic arm appear on the screen and naturally fall due to gravity."
   ]
  },
  {
   "cell_type": "code",
   "execution_count": 8,
   "id": "8468b766",
   "metadata": {},
   "outputs": [
    {
     "data": {
      "text/html": [
       "<video src=\"Videos/video_01.mp4\" controls  >\n",
       "      Your browser does not support the <code>video</code> element.\n",
       "    </video>"
      ],
      "text/plain": [
       "<IPython.core.display.Video object>"
      ]
     },
     "execution_count": 8,
     "metadata": {},
     "output_type": "execute_result"
    }
   ],
   "source": [
    "from IPython.display import Video\n",
    "Video(url=\"Videos/video_01.mp4\")"
   ]
  },
  {
   "cell_type": "code",
   "execution_count": null,
   "id": "ce238e20-8b2d-45e0-a59d-812d57d5add9",
   "metadata": {},
   "outputs": [],
   "source": []
  }
 ],
 "metadata": {
  "kernelspec": {
   "display_name": "Python 3 (ipykernel)",
   "language": "python",
   "name": "python3"
  },
  "language_info": {
   "codemirror_mode": {
    "name": "ipython",
    "version": 3
   },
   "file_extension": ".py",
   "mimetype": "text/x-python",
   "name": "python",
   "nbconvert_exporter": "python",
   "pygments_lexer": "ipython3",
   "version": "3.12.11"
  }
 },
 "nbformat": 4,
 "nbformat_minor": 5
}
